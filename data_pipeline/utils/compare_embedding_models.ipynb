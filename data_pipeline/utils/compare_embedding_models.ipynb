{
 "cells": [
  {
   "cell_type": "markdown",
   "id": "88525e18",
   "metadata": {},
   "source": [
    "# So sánh mô hình Embedding: BGE-M3 vs ViEmbedding-base\n",
    "\n",
    "Notebook này so sánh hiệu suất của hai mô hình:\n",
    "- BAAI/bge-m3\n",
    "- anti-ai/ViEmbedding-base\n",
    "\n",
    "Trên dataset: anti-ai/ViNLI-Zalo-supervised\n",
    "Sử dụng: TripletLoss và TripletEvaluator"
   ]
  },
  {
   "cell_type": "markdown",
   "id": "c9d0f5aa",
   "metadata": {},
   "source": [
    "## 1. Cài đặt thư viện"
   ]
  },
  {
   "cell_type": "code",
   "execution_count": null,
   "id": "ec60c87f",
   "metadata": {},
   "outputs": [],
   "source": [
    "!pip install sentence-transformers datasets transformers torch accelerate huggingface_hub tqdm pandas numpy scikit-learn"
   ]
  },
  {
   "cell_type": "markdown",
   "id": "d01d213d",
   "metadata": {},
   "source": [
    "## 2. Import thư viện"
   ]
  },
  {
   "cell_type": "code",
   "execution_count": null,
   "id": "a080fe2d",
   "metadata": {},
   "outputs": [],
   "source": [
    "import torch\n",
    "from datasets import load_dataset\n",
    "from sentence_transformers import SentenceTransformer, InputExample, losses, evaluation\n",
    "from torch.utils.data import DataLoader\n",
    "import pandas as pd\n",
    "import numpy as np\n",
    "from tqdm import tqdm\n",
    "import json\n",
    "from datetime import datetime\n",
    "import os\n",
    "\n",
    "# Kiểm tra GPU\n",
    "device = \"cuda\" if torch.cuda.is_available() else \"cpu\"\n",
    "print(f\"Using device: {device}\")\n",
    "if device == \"cuda\":\n",
    "    print(f\"GPU: {torch.cuda.get_device_name(0)}\")\n",
    "    print(f\"Memory: {torch.cuda.get_device_properties(0).total_memory / 1e9:.2f} GB\")"
   ]
  },
  {
   "cell_type": "markdown",
   "id": "f3bed23b",
   "metadata": {},
   "source": [
    "## 3. Tải dataset"
   ]
  },
  {
   "cell_type": "code",
   "execution_count": null,
   "id": "ebbd0858",
   "metadata": {},
   "outputs": [],
   "source": [
    "# Tải dataset từ HuggingFace\n",
    "print(\"Loading dataset...\")\n",
    "dataset = load_dataset(\"anti-ai/ViNLI-Zalo-supervised\")\n",
    "\n",
    "print(f\"Dataset structure: {dataset}\")\n",
    "print(f\"\\nSample data:\")\n",
    "print(dataset['train'][0])\n",
    "\n",
    "# Kiểm tra số lượng samples\n",
    "if 'train' in dataset:\n",
    "    print(f\"\\nTrain samples: {len(dataset['train'])}\")\n",
    "if 'validation' in dataset:\n",
    "    print(f\"Validation samples: {len(dataset['validation'])}\")\n",
    "if 'test' in dataset:\n",
    "    print(f\"Test samples: {len(dataset['test'])}\")"
   ]
  },
  {
   "cell_type": "markdown",
   "id": "4c14fcaf",
   "metadata": {},
   "source": [
    "## 4. Chuẩn bị dữ liệu cho Triplet Loss"
   ]
  },
  {
   "cell_type": "code",
   "execution_count": null,
   "id": "f03b5252",
   "metadata": {},
   "outputs": [],
   "source": [
    "def prepare_triplet_data(dataset_split):\n",
    "    \"\"\"\n",
    "    Chuyển đổi dataset thành format InputExample cho TripletLoss\n",
    "    Format: (anchor, positive, negative)\n",
    "    \"\"\"\n",
    "    triplet_examples = []\n",
    "    \n",
    "    for sample in tqdm(dataset_split, desc=\"Preparing triplet data\"):\n",
    "        # Lấy query (anchor), positive, và hard_negative\n",
    "        query = sample['query']\n",
    "        positive = sample['positive']\n",
    "        negative = sample['hard_neg']\n",
    "        \n",
    "        # Tạo InputExample với texts chứa [anchor, positive, negative]\n",
    "        example = InputExample(texts=[query, positive, negative])\n",
    "        triplet_examples.append(example)\n",
    "    \n",
    "    return triplet_examples\n",
    "\n",
    "# Chuẩn bị dữ liệu\n",
    "print(\"\\nPreparing training data...\")\n",
    "train_examples = prepare_triplet_data(dataset['train'])\n",
    "\n",
    "# Nếu có validation set, chuẩn bị cho evaluation\n",
    "if 'validation' in dataset:\n",
    "    print(\"Preparing validation data...\")\n",
    "    val_examples = prepare_triplet_data(dataset['validation'])\n",
    "elif 'test' in dataset:\n",
    "    print(\"Preparing test data...\")\n",
    "    val_examples = prepare_triplet_data(dataset['test'])\n",
    "else:\n",
    "    # Nếu không có validation/test, chia train thành 90-10\n",
    "    print(\"Splitting train data into train/val (90-10)...\")\n",
    "    split_idx = int(len(train_examples) * 0.9)\n",
    "    val_examples = train_examples[split_idx:]\n",
    "    train_examples = train_examples[:split_idx]\n",
    "\n",
    "print(f\"\\nTrain examples: {len(train_examples)}\")\n",
    "print(f\"Validation examples: {len(val_examples)}\")"
   ]
  },
  {
   "cell_type": "markdown",
   "id": "84436be7",
   "metadata": {},
   "source": [
    "## 5. Tạo TripletEvaluator"
   ]
  },
  {
   "cell_type": "code",
   "execution_count": null,
   "id": "44fb127e",
   "metadata": {},
   "outputs": [],
   "source": [
    "def create_triplet_evaluator(examples, name=\"validation\"):\n",
    "    \"\"\"\n",
    "    Tạo TripletEvaluator từ list InputExample\n",
    "    \"\"\"\n",
    "    anchors = []\n",
    "    positives = []\n",
    "    negatives = []\n",
    "    \n",
    "    for example in examples:\n",
    "        anchors.append(example.texts[0])\n",
    "        positives.append(example.texts[1])\n",
    "        negatives.append(example.texts[2])\n",
    "    \n",
    "    evaluator = evaluation.TripletEvaluator(\n",
    "        anchors=anchors,\n",
    "        positives=positives,\n",
    "        negatives=negatives,\n",
    "        name=name\n",
    "    )\n",
    "    \n",
    "    return evaluator\n",
    "\n",
    "# Tạo evaluator\n",
    "print(\"Creating evaluator...\")\n",
    "evaluator = create_triplet_evaluator(val_examples, name=\"vinli-zalo-eval\")\n",
    "print(\"Evaluator created successfully!\")"
   ]
  },
  {
   "cell_type": "markdown",
   "id": "3a5536e7",
   "metadata": {},
   "source": [
    "## 6. Hàm đánh giá mô hình"
   ]
  },
  {
   "cell_type": "code",
   "execution_count": null,
   "id": "e70694f9",
   "metadata": {},
   "outputs": [],
   "source": [
    "def evaluate_model(model_name, evaluator, device='cuda'):\n",
    "    \"\"\"\n",
    "    Đánh giá một mô hình trên evaluator\n",
    "    \"\"\"\n",
    "    print(f\"\\n{'='*80}\")\n",
    "    print(f\"Evaluating model: {model_name}\")\n",
    "    print(f\"{'='*80}\")\n",
    "    \n",
    "    try:\n",
    "        # Load model\n",
    "        print(f\"Loading model from {model_name}...\")\n",
    "        model = SentenceTransformer(model_name, device=device)\n",
    "        \n",
    "        # Evaluate\n",
    "        print(\"Running evaluation...\")\n",
    "        score = evaluator(model)\n",
    "        \n",
    "        # Xử lý trường hợp score là dictionary hoặc số\n",
    "        if isinstance(score, dict):\n",
    "            accuracy = score.get('accuracy', score.get('cosine_accuracy', 0))\n",
    "            print(f\"\\nResults for {model_name}:\")\n",
    "            print(f\"Full results: {score}\")\n",
    "            print(f\"Accuracy: {accuracy:.4f}\")\n",
    "        else:\n",
    "            accuracy = score\n",
    "            print(f\"\\nResults for {model_name}:\")\n",
    "            print(f\"Accuracy: {accuracy:.4f}\")\n",
    "        \n",
    "        return {\n",
    "            'model_name': model_name,\n",
    "            'accuracy': accuracy,\n",
    "            'full_results': score if isinstance(score, dict) else {'accuracy': score},\n",
    "            'status': 'success'\n",
    "        }\n",
    "        \n",
    "    except Exception as e:\n",
    "        print(f\"Error evaluating {model_name}: {str(e)}\")\n",
    "        import traceback\n",
    "        traceback.print_exc()\n",
    "        return {\n",
    "            'model_name': model_name,\n",
    "            'accuracy': None,\n",
    "            'status': 'failed',\n",
    "            'error': str(e)\n",
    "        }"
   ]
  },
  {
   "cell_type": "markdown",
   "id": "a793b452",
   "metadata": {},
   "source": [
    "## 7. Đánh giá cả hai mô hình"
   ]
  },
  {
   "cell_type": "code",
   "execution_count": null,
   "id": "90787e35",
   "metadata": {},
   "outputs": [],
   "source": [
    "# Danh sách mô hình cần đánh giá\n",
    "models_to_evaluate = [\n",
    "    \"BAAI/bge-m3\",\n",
    "    \"anti-ai/ViEmbedding-base\"\n",
    "]\n",
    "\n",
    "# Đánh giá từng mô hình\n",
    "results = []\n",
    "\n",
    "for model_name in models_to_evaluate:\n",
    "    result = evaluate_model(model_name, evaluator, device=device)\n",
    "    results.append(result)\n",
    "    \n",
    "    # Giải phóng bộ nhớ\n",
    "    if device == \"cuda\":\n",
    "        torch.cuda.empty_cache()\n",
    "\n",
    "print(\"\\n\" + \"=\"*80)\n",
    "print(\"Evaluation completed!\")\n",
    "print(\"=\"*80)"
   ]
  },
  {
   "cell_type": "markdown",
   "id": "b5b964a2",
   "metadata": {},
   "source": [
    "## 8. Hiển thị kết quả so sánh"
   ]
  },
  {
   "cell_type": "code",
   "execution_count": null,
   "id": "74c512df",
   "metadata": {},
   "outputs": [],
   "source": [
    "# Tạo DataFrame để hiển thị kết quả\n",
    "df_results = pd.DataFrame(results)\n",
    "\n",
    "print(\"\\n\" + \"=\"*80)\n",
    "print(\"COMPARISON RESULTS\")\n",
    "print(\"=\"*80)\n",
    "print(df_results.to_string(index=False))\n",
    "\n",
    "# Tìm mô hình tốt nhất\n",
    "successful_results = [r for r in results if r['status'] == 'success']\n",
    "if successful_results:\n",
    "    best_model = max(successful_results, key=lambda x: x['accuracy'])\n",
    "    print(f\"\\n🏆 Best Model: {best_model['model_name']}\")\n",
    "    print(f\"   Accuracy: {best_model['accuracy']:.4f}\")\n",
    "    \n",
    "    # Tính độ chênh lệch\n",
    "    if len(successful_results) == 2:\n",
    "        diff = abs(successful_results[0]['accuracy'] - successful_results[1]['accuracy'])\n",
    "        print(f\"\\n📊 Accuracy difference: {diff:.4f} ({diff*100:.2f}%)\")"
   ]
  },
  {
   "cell_type": "markdown",
   "id": "7fe676af",
   "metadata": {},
   "source": [
    "## 9. Inference chi tiết trên một số mẫu"
   ]
  },
  {
   "cell_type": "code",
   "execution_count": null,
   "id": "d209595a",
   "metadata": {},
   "outputs": [],
   "source": [
    "def detailed_inference(model_name, examples, num_samples=5, device='cuda'):\n",
    "    \"\"\"\n",
    "    Thực hiện inference chi tiết trên một số mẫu\n",
    "    \"\"\"\n",
    "    print(f\"\\n{'='*80}\")\n",
    "    print(f\"Detailed Inference - Model: {model_name}\")\n",
    "    print(f\"{'='*80}\")\n",
    "    \n",
    "    # Load model\n",
    "    model = SentenceTransformer(model_name, device=device)\n",
    "    \n",
    "    # Chọn ngẫu nhiên một số samples\n",
    "    sample_indices = np.random.choice(len(examples), min(num_samples, len(examples)), replace=False)\n",
    "    \n",
    "    results = []\n",
    "    \n",
    "    for idx in sample_indices:\n",
    "        example = examples[idx]\n",
    "        query = example.texts[0]\n",
    "        positive = example.texts[1]\n",
    "        negative = example.texts[2]\n",
    "        \n",
    "        # Encode\n",
    "        query_emb = model.encode(query, convert_to_tensor=True)\n",
    "        pos_emb = model.encode(positive, convert_to_tensor=True)\n",
    "        neg_emb = model.encode(negative, convert_to_tensor=True)\n",
    "        \n",
    "        # Tính similarity\n",
    "        from sentence_transformers import util\n",
    "        pos_sim = util.cos_sim(query_emb, pos_emb).item()\n",
    "        neg_sim = util.cos_sim(query_emb, neg_emb).item()\n",
    "        \n",
    "        # Xác định đúng/sai\n",
    "        correct = pos_sim > neg_sim\n",
    "        \n",
    "        result = {\n",
    "            'query': query[:100] + '...' if len(query) > 100 else query,\n",
    "            'positive': positive[:100] + '...' if len(positive) > 100 else positive,\n",
    "            'negative': negative[:100] + '...' if len(negative) > 100 else negative,\n",
    "            'pos_similarity': pos_sim,\n",
    "            'neg_similarity': neg_sim,\n",
    "            'correct': correct\n",
    "        }\n",
    "        results.append(result)\n",
    "        \n",
    "        # In kết quả\n",
    "        print(f\"\\nSample {idx + 1}:\")\n",
    "        print(f\"Query: {result['query']}\")\n",
    "        print(f\"Positive: {result['positive']}\")\n",
    "        print(f\"Negative: {result['negative']}\")\n",
    "        print(f\"Positive Similarity: {pos_sim:.4f}\")\n",
    "        print(f\"Negative Similarity: {neg_sim:.4f}\")\n",
    "        print(f\"Result: {'✓ CORRECT' if correct else '✗ INCORRECT'}\")\n",
    "        print(\"-\" * 80)\n",
    "    \n",
    "    return results\n",
    "\n",
    "# Thực hiện inference chi tiết cho cả hai mô hình\n",
    "print(\"\\n\" + \"=\"*80)\n",
    "print(\"DETAILED INFERENCE ON SAMPLE DATA\")\n",
    "print(\"=\"*80)\n",
    "\n",
    "inference_results = {}\n",
    "for model_name in models_to_evaluate:\n",
    "    try:\n",
    "        results = detailed_inference(model_name, val_examples, num_samples=5, device=device)\n",
    "        inference_results[model_name] = results\n",
    "        \n",
    "        # Giải phóng bộ nhớ\n",
    "        if device == \"cuda\":\n",
    "            torch.cuda.empty_cache()\n",
    "    except Exception as e:\n",
    "        print(f\"Error in detailed inference for {model_name}: {str(e)}\")"
   ]
  },
  {
   "cell_type": "markdown",
   "id": "75455aa1",
   "metadata": {},
   "source": [
    "## 10. Lưu kết quả"
   ]
  },
  {
   "cell_type": "code",
   "execution_count": null,
   "id": "fd75e8a7",
   "metadata": {},
   "outputs": [],
   "source": [
    "# Tạo thư mục kết quả nếu chưa có\n",
    "output_dir = \"./comparison_results\"\n",
    "os.makedirs(output_dir, exist_ok=True)\n",
    "\n",
    "# Lưu kết quả tổng quát\n",
    "timestamp = datetime.now().strftime(\"%Y%m%d_%H%M%S\")\n",
    "results_file = f\"{output_dir}/comparison_results_{timestamp}.json\"\n",
    "\n",
    "summary = {\n",
    "    'timestamp': timestamp,\n",
    "    'dataset': 'anti-ai/ViNLI-Zalo-supervised',\n",
    "    'evaluation_metric': 'TripletEvaluator',\n",
    "    'num_train_samples': len(train_examples),\n",
    "    'num_val_samples': len(val_examples),\n",
    "    'models_evaluated': models_to_evaluate,\n",
    "    'results': results\n",
    "}\n",
    "\n",
    "with open(results_file, 'w', encoding='utf-8') as f:\n",
    "    json.dump(summary, f, ensure_ascii=False, indent=2)\n",
    "\n",
    "print(f\"\\nResults saved to: {results_file}\")\n",
    "\n",
    "# Lưu DataFrame\n",
    "csv_file = f\"{output_dir}/comparison_results_{timestamp}.csv\"\n",
    "df_results.to_csv(csv_file, index=False)\n",
    "print(f\"CSV results saved to: {csv_file}\")"
   ]
  },
  {
   "cell_type": "markdown",
   "id": "9c3a6385",
   "metadata": {},
   "source": [
    "## 11. Kết luận"
   ]
  },
  {
   "cell_type": "code",
   "execution_count": null,
   "id": "a0c8c242",
   "metadata": {},
   "outputs": [],
   "source": [
    "print(\"\\n\" + \"=\"*80)\n",
    "print(\"SUMMARY\")\n",
    "print(\"=\"*80)\n",
    "print(f\"\\nDataset: anti-ai/ViNLI-Zalo-supervised\")\n",
    "print(f\"Training samples: {len(train_examples)}\")\n",
    "print(f\"Validation samples: {len(val_examples)}\")\n",
    "print(f\"\\nModels compared:\")\n",
    "for i, model in enumerate(models_to_evaluate, 1):\n",
    "    print(f\"{i}. {model}\")\n",
    "\n",
    "print(f\"\\nEvaluation metric: TripletEvaluator (Triplet Accuracy)\")\n",
    "print(f\"\\nResults have been saved to: {output_dir}\")\n",
    "print(\"\\n\" + \"=\"*80)"
   ]
  }
 ],
 "metadata": {
  "language_info": {
   "name": "python"
  }
 },
 "nbformat": 4,
 "nbformat_minor": 5
}
